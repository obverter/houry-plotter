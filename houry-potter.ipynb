{
 "cells": [
  {
   "cell_type": "code",
   "execution_count": 2,
   "metadata": {},
   "outputs": [],
   "source": [
    "from sympy import (\n",
    "    solve,\n",
    "    Poly,\n",
    "    Eq,\n",
    "    Function,\n",
    "    exp,\n",
    "    Indexed,\n",
    "    IndexedBase,\n",
    "    Tuple,\n",
    "    sqrt,\n",
    "    Symbol,\n",
    "    sin,\n",
    "    limit,\n",
    "    root,\n",
    "    real_root,\n",
    "    S,\n",
    "    nroots,\n",
    ")\n",
    "from sympy.solvers.solvers import unrad\n",
    "import numpy as np\n",
    "import pandas as pd\n",
    "from scipy.optimize import fsolve\n",
    "from scipy.optimize import minimize"
   ]
  },
  {
   "cell_type": "code",
   "execution_count": 3,
   "metadata": {},
   "outputs": [],
   "source": [
    "N = 15  # pe rate range 285 - 350 by 5s\n",
    "M = 20  # es_rate range 160 - 255 by 5s\n",
    "O = 10  # pm_rate range 150 - 195 by 5s\n",
    "P = 401  # hours index from 0.0 - 100.0 by 0.25s\n"
   ]
  },
  {
   "cell_type": "code",
   "execution_count": 4,
   "metadata": {},
   "outputs": [],
   "source": [
    "pe_rate = pd.DataFrame([285 + (iter * 5) for iter in range(N)])  # init dataframe for pe_rate\n",
    "pe_hours = pd.DataFrame(iter * 0.25 for iter in range(P))  # init dataframe for pe_hours\n",
    "es_rate = [160 + (iter * 5) for iter in range(M)]  # init dataframe for es_rate\n",
    "es_hours = [iter * 0.25 for iter in range(P)]  # init dataframe for es_hours\n",
    "pm_rate = [150 + (iter * 5) for iter in range(O)]  # init dataframe for pm_rate\n",
    "pm_hours = [iter * 0.25 for iter in range(P)]  # init dataframe for pm_hours\n"
   ]
  },
  {
   "cell_type": "code",
   "execution_count": 5,
   "metadata": {},
   "outputs": [],
   "source": [
    "df_pe = pd.DataFrame((np.outer(pe_hours, pe_rate))) # init pe df, labels\n",
    "df_pe.columns = [285 + (iter * 5) for iter in range(N)]\n",
    "df_pe.index = [iter * 0.25 for iter in range(P)]\n"
   ]
  },
  {
   "cell_type": "code",
   "execution_count": 6,
   "metadata": {},
   "outputs": [],
   "source": [
    "df_es = pd.DataFrame((np.outer(es_hours, es_rate))) # init es df, labels\n",
    "df_es.columns = [160 + (iter * 5) for iter in range(M)]\n",
    "df_es.index = [iter * 0.25 for iter in range(P)]\n"
   ]
  },
  {
   "cell_type": "code",
   "execution_count": 7,
   "metadata": {},
   "outputs": [],
   "source": [
    "df_pm = pd.DataFrame((np.outer(pm_hours, pm_rate))) # init pm df, labels\n",
    "df_pm.columns = [160 + (iter * 5) for iter in range(O)]\n",
    "df_pm.index = [iter * 0.25 for iter in range(P)]\n"
   ]
  },
  {
   "cell_type": "code",
   "execution_count": 8,
   "metadata": {},
   "outputs": [],
   "source": [
    "search = 127.5"
   ]
  },
  {
   "cell_type": "code",
   "execution_count": 9,
   "metadata": {},
   "outputs": [],
   "source": [
    "pm_mask = df_pm.mask(df_pm != search, False) # "
   ]
  },
  {
   "cell_type": "markdown",
   "metadata": {},
   "source": []
  },
  {
   "cell_type": "code",
   "execution_count": 10,
   "metadata": {},
   "outputs": [],
   "source": [
    "df_pm = pm_mask[pm_mask.any(axis=1)]"
   ]
  },
  {
   "cell_type": "code",
   "execution_count": 11,
   "metadata": {},
   "outputs": [
    {
     "data": {
      "text/html": [
       "<div>\n",
       "<style scoped>\n",
       "    .dataframe tbody tr th:only-of-type {\n",
       "        vertical-align: middle;\n",
       "    }\n",
       "\n",
       "    .dataframe tbody tr th {\n",
       "        vertical-align: top;\n",
       "    }\n",
       "\n",
       "    .dataframe thead th {\n",
       "        text-align: right;\n",
       "    }\n",
       "</style>\n",
       "<table border=\"1\" class=\"dataframe\">\n",
       "  <thead>\n",
       "    <tr style=\"text-align: right;\">\n",
       "      <th></th>\n",
       "      <th>160</th>\n",
       "      <th>165</th>\n",
       "      <th>170</th>\n",
       "      <th>175</th>\n",
       "      <th>180</th>\n",
       "      <th>185</th>\n",
       "      <th>190</th>\n",
       "      <th>195</th>\n",
       "      <th>200</th>\n",
       "      <th>205</th>\n",
       "    </tr>\n",
       "  </thead>\n",
       "  <tbody>\n",
       "    <tr>\n",
       "      <th>0.75</th>\n",
       "      <td>False</td>\n",
       "      <td>False</td>\n",
       "      <td>False</td>\n",
       "      <td>False</td>\n",
       "      <td>127.5</td>\n",
       "      <td>False</td>\n",
       "      <td>False</td>\n",
       "      <td>False</td>\n",
       "      <td>False</td>\n",
       "      <td>False</td>\n",
       "    </tr>\n",
       "  </tbody>\n",
       "</table>\n",
       "</div>"
      ],
      "text/plain": [
       "        160    165    170    175    180    185    190    195    200    205\n",
       "0.75  False  False  False  False  127.5  False  False  False  False  False"
      ]
     },
     "execution_count": 11,
     "metadata": {},
     "output_type": "execute_result"
    }
   ],
   "source": [
    "df_pm"
   ]
  },
  {
   "cell_type": "code",
   "execution_count": 12,
   "metadata": {},
   "outputs": [],
   "source": [
    "pm_id = df_pm.loc[:, (df_pm != 0).any(axis=0)]"
   ]
  },
  {
   "cell_type": "code",
   "execution_count": 13,
   "metadata": {},
   "outputs": [
    {
     "name": "stdout",
     "output_type": "stream",
     "text": [
      "[0.75] hours at [160] per hour.\n"
     ]
    }
   ],
   "source": [
    "pos = [0]\n",
    "pm_colname = df_pm.columns[pos]\n",
    "pm_indexname = df_pm.index[pos]\n",
    "\n",
    "print(\n",
    "    pm_indexname.tolist(), \"hours at\", pm_colname.tolist(), \"per hour.\"\n",
    ")\n"
   ]
  },
  {
   "cell_type": "code",
   "execution_count": 14,
   "metadata": {},
   "outputs": [],
   "source": [
    "\n",
    "def breakdown(bgt):\n",
    "    y = bgt - pm_id.values\n",
    "    if y >= 0:\n",
    "        return y\n",
    "    else:\n",
    "        return y\n"
   ]
  },
  {
   "cell_type": "code",
   "execution_count": 15,
   "metadata": {},
   "outputs": [
    {
     "data": {
      "text/plain": [
       "array([[172.5]], dtype=object)"
      ]
     },
     "execution_count": 15,
     "metadata": {},
     "output_type": "execute_result"
    }
   ],
   "source": [
    "breakdown(300)"
   ]
  }
 ],
 "metadata": {
  "interpreter": {
   "hash": "10626171d4353dd8d0f12b0dae77464b904fee8f635bb045a55f368206a04bde"
  },
  "kernelspec": {
   "display_name": "Python 3.10.3 64-bit ('3.10.3')",
   "language": "python",
   "name": "python3"
  },
  "language_info": {
   "codemirror_mode": {
    "name": "ipython",
    "version": 3
   },
   "file_extension": ".py",
   "mimetype": "text/x-python",
   "name": "python",
   "nbconvert_exporter": "python",
   "pygments_lexer": "ipython3",
   "version": "3.10.3"
  },
  "orig_nbformat": 4
 },
 "nbformat": 4,
 "nbformat_minor": 2
}
