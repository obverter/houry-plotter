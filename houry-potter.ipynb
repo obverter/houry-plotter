{
 "cells": [
  {
   "cell_type": "code",
   "execution_count": 31,
   "metadata": {},
   "outputs": [],
   "source": [
    "from sympy import (\n",
    "    solve,\n",
    "    Poly,\n",
    "    Eq,\n",
    "    Function,\n",
    "    exp,\n",
    "    Indexed,\n",
    "    IndexedBase,\n",
    "    Tuple,\n",
    "    sqrt,\n",
    "    Symbol,\n",
    "    sin,\n",
    "    limit,\n",
    "    root,\n",
    "    real_root,\n",
    "    S,\n",
    "    nroots,\n",
    ")\n",
    "from sympy.solvers.solvers import unrad\n",
    "import numpy as np\n",
    "import pandas as pd\n",
    "from scipy.optimize import fsolve\n",
    "from scipy.optimize import minimize\n"
   ]
  },
  {
   "cell_type": "code",
   "execution_count": 32,
   "metadata": {},
   "outputs": [],
   "source": [
    "rate_range = 41  # $/hr rate range 150 - 350 by 5s\n",
    "hour_range = 401  # hours index from 0.0 - 100.0 by 0.25s\n"
   ]
  },
  {
   "cell_type": "code",
   "execution_count": 33,
   "metadata": {},
   "outputs": [],
   "source": [
    "# init dataframe \n",
    "rate = pd.DataFrame((150 + (iter * 5) for iter in range(rate_range)))\n",
    "hours = pd.DataFrame((iter * 0.25 for iter in range(hour_range)))  # init dataframe for pe_hours\\n\",\n"
   ]
  },
  {
   "cell_type": "code",
   "execution_count": 34,
   "metadata": {},
   "outputs": [],
   "source": [
    "df = pd.DataFrame((np.outer(hours, rate))) # init pe df, labels\\n\",\n",
    "df.columns = [150 + (iter * 5) for iter in range(rate_range)]\n",
    "df.index = [iter * 0.25 for iter in range(hour_range)]\n"
   ]
  },
  {
   "cell_type": "code",
   "execution_count": 35,
   "metadata": {},
   "outputs": [],
   "source": [
    "search = 150 # test query with value present in all columns"
   ]
  },
  {
   "cell_type": "code",
   "execution_count": 36,
   "metadata": {},
   "outputs": [],
   "source": [
    "mask = df.mask(df != search, False) # replace in place with 'False' anything != search "
   ]
  },
  {
   "cell_type": "code",
   "execution_count": 37,
   "metadata": {},
   "outputs": [
    {
     "data": {
      "text/html": [
       "<div>\n",
       "<style scoped>\n",
       "    .dataframe tbody tr th:only-of-type {\n",
       "        vertical-align: middle;\n",
       "    }\n",
       "\n",
       "    .dataframe tbody tr th {\n",
       "        vertical-align: top;\n",
       "    }\n",
       "\n",
       "    .dataframe thead th {\n",
       "        text-align: right;\n",
       "    }\n",
       "</style>\n",
       "<table border=\"1\" class=\"dataframe\">\n",
       "  <thead>\n",
       "    <tr style=\"text-align: right;\">\n",
       "      <th></th>\n",
       "      <th>150</th>\n",
       "      <th>200</th>\n",
       "      <th>300</th>\n",
       "    </tr>\n",
       "  </thead>\n",
       "  <tbody>\n",
       "    <tr>\n",
       "      <th>0.50</th>\n",
       "      <td>False</td>\n",
       "      <td>False</td>\n",
       "      <td>150.0</td>\n",
       "    </tr>\n",
       "    <tr>\n",
       "      <th>0.75</th>\n",
       "      <td>False</td>\n",
       "      <td>150.0</td>\n",
       "      <td>False</td>\n",
       "    </tr>\n",
       "    <tr>\n",
       "      <th>1.00</th>\n",
       "      <td>150.0</td>\n",
       "      <td>False</td>\n",
       "      <td>False</td>\n",
       "    </tr>\n",
       "  </tbody>\n",
       "</table>\n",
       "</div>"
      ],
      "text/plain": [
       "        150    200    300\n",
       "0.50  False  False  150.0\n",
       "0.75  False  150.0  False\n",
       "1.00  150.0  False  False"
      ]
     },
     "execution_count": 37,
     "metadata": {},
     "output_type": "execute_result"
    }
   ],
   "source": [
    "mask = mask[mask.any(axis=1)] # mask matching value, dropping all 'False' values\n",
    "mask_id = mask.loc[:, (mask != 0).any(axis=0)]\n",
    "\n",
    "mask_id\n"
   ]
  },
  {
   "cell_type": "code",
   "execution_count": 38,
   "metadata": {},
   "outputs": [
    {
     "data": {
      "text/plain": [
       "[(0.5, 300), (0.75, 200), (1.0, 150)]"
      ]
     },
     "execution_count": 38,
     "metadata": {},
     "output_type": "execute_result"
    }
   ],
   "source": [
    "mask[mask > 0].stack().index.tolist() # Render index, key list of values == search. Everything works and I am incredible."
   ]
  },
  {
   "cell_type": "code",
   "execution_count": 39,
   "metadata": {},
   "outputs": [],
   "source": [
    "def solve(x):\n",
    "    if df.mask(df != x, False).any().any():\n",
    "        return mask[mask > 0].stack().index.tolist()\n",
    "    else:\n",
    "        return \"nah\"\n",
    "    \n",
    "        "
   ]
  },
  {
   "cell_type": "code",
   "execution_count": 40,
   "metadata": {},
   "outputs": [
    {
     "data": {
      "text/plain": [
       "[(0.5, 300), (0.75, 200), (1.0, 150)]"
      ]
     },
     "execution_count": 40,
     "metadata": {},
     "output_type": "execute_result"
    }
   ],
   "source": [
    "solve(300)"
   ]
  }
 ],
 "metadata": {
  "interpreter": {
   "hash": "1d303bb47c9fb95b69831ad3f053742b5dc641ae44e3e9449c8cdb2bd39afbd8"
  },
  "kernelspec": {
   "display_name": "Python 3.10.3 ('bean-EeRKtlu0')",
   "language": "python",
   "name": "python3"
  },
  "language_info": {
   "codemirror_mode": {
    "name": "ipython",
    "version": 3
   },
   "file_extension": ".py",
   "mimetype": "text/x-python",
   "name": "python",
   "nbconvert_exporter": "python",
   "pygments_lexer": "ipython3",
   "version": "3.10.3"
  },
  "orig_nbformat": 4
 },
 "nbformat": 4,
 "nbformat_minor": 2
}
