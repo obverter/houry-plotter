{
 "cells": [
  {
   "cell_type": "code",
   "execution_count": 40,
   "metadata": {},
   "outputs": [],
   "source": [
    "from sympy import (\n",
    "    solve,\n",
    "    Poly,\n",
    "    Eq,\n",
    "    Function,\n",
    "    exp,\n",
    "    Indexed,\n",
    "    IndexedBase,\n",
    "    Tuple,\n",
    "    sqrt,\n",
    "    Symbol,\n",
    "    sin,\n",
    "    limit,\n",
    "    root,\n",
    "    real_root,\n",
    "    S,\n",
    "    nroots,\n",
    ")\n",
    "from sympy.solvers.solvers import unrad\n",
    "import numpy as np\n",
    "import pandas as pd\n",
    "from scipy.optimize import fsolve\n",
    "from scipy.optimize import minimize\n",
    "from collections import namedtuple\n"
   ]
  },
  {
   "cell_type": "code",
   "execution_count": 41,
   "metadata": {},
   "outputs": [],
   "source": [
    "rate_range = 41  # $/hr rate range 150 - 350 by 5s\n",
    "hour_range = 401  # hours index from 0.0 - 100.0 by 0.25s\n",
    "cols = [150 + (iter * 5) for iter in range(rate_range)]\n",
    "index = [iter * 0.25 for iter in range(hour_range)]\n"
   ]
  },
  {
   "cell_type": "code",
   "execution_count": 42,
   "metadata": {},
   "outputs": [],
   "source": [
    "df = pd.DataFrame((np.outer(index, cols))) # init df, label\n",
    "df = df.set_axis([cols], axis=1)\n",
    "df = df.set_axis([index], axis=0)\n"
   ]
  },
  {
   "cell_type": "code",
   "execution_count": 43,
   "metadata": {},
   "outputs": [],
   "source": [
    "budget = float(input(\"budget\")) # test query with value present in all columns"
   ]
  },
  {
   "cell_type": "code",
   "execution_count": 44,
   "metadata": {},
   "outputs": [],
   "source": [
    "mask = df.mask(df != budget, False) # replace in place with 'False' anything != budget "
   ]
  },
  {
   "cell_type": "code",
   "execution_count": 45,
   "metadata": {},
   "outputs": [],
   "source": [
    "mask = mask[mask.any(axis=1)] # mask matching value, dropping all rows/columns that don't contain hot values\n",
    "mask_id = mask.loc[:, (mask != 0).any(axis=0)]\n"
   ]
  },
  {
   "cell_type": "code",
   "execution_count": 46,
   "metadata": {},
   "outputs": [
    {
     "data": {
      "text/html": [
       "<div>\n",
       "<style scoped>\n",
       "    .dataframe tbody tr th:only-of-type {\n",
       "        vertical-align: middle;\n",
       "    }\n",
       "\n",
       "    .dataframe tbody tr th {\n",
       "        vertical-align: top;\n",
       "    }\n",
       "\n",
       "    .dataframe thead tr th {\n",
       "        text-align: left;\n",
       "    }\n",
       "</style>\n",
       "<table border=\"1\" class=\"dataframe\">\n",
       "  <thead>\n",
       "    <tr>\n",
       "      <th></th>\n",
       "      <th>150</th>\n",
       "      <th>155</th>\n",
       "      <th>160</th>\n",
       "      <th>165</th>\n",
       "      <th>170</th>\n",
       "      <th>175</th>\n",
       "      <th>180</th>\n",
       "      <th>185</th>\n",
       "      <th>190</th>\n",
       "      <th>195</th>\n",
       "      <th>...</th>\n",
       "      <th>305</th>\n",
       "      <th>310</th>\n",
       "      <th>315</th>\n",
       "      <th>320</th>\n",
       "      <th>325</th>\n",
       "      <th>330</th>\n",
       "      <th>335</th>\n",
       "      <th>340</th>\n",
       "      <th>345</th>\n",
       "      <th>350</th>\n",
       "    </tr>\n",
       "  </thead>\n",
       "  <tbody>\n",
       "    <tr>\n",
       "      <th>10.00</th>\n",
       "      <td>False</td>\n",
       "      <td>False</td>\n",
       "      <td>False</td>\n",
       "      <td>False</td>\n",
       "      <td>False</td>\n",
       "      <td>False</td>\n",
       "      <td>False</td>\n",
       "      <td>False</td>\n",
       "      <td>False</td>\n",
       "      <td>False</td>\n",
       "      <td>...</td>\n",
       "      <td>False</td>\n",
       "      <td>False</td>\n",
       "      <td>False</td>\n",
       "      <td>False</td>\n",
       "      <td>False</td>\n",
       "      <td>False</td>\n",
       "      <td>False</td>\n",
       "      <td>False</td>\n",
       "      <td>False</td>\n",
       "      <td>False</td>\n",
       "    </tr>\n",
       "    <tr>\n",
       "      <th>12.00</th>\n",
       "      <td>False</td>\n",
       "      <td>False</td>\n",
       "      <td>False</td>\n",
       "      <td>False</td>\n",
       "      <td>False</td>\n",
       "      <td>False</td>\n",
       "      <td>False</td>\n",
       "      <td>False</td>\n",
       "      <td>False</td>\n",
       "      <td>False</td>\n",
       "      <td>...</td>\n",
       "      <td>False</td>\n",
       "      <td>False</td>\n",
       "      <td>False</td>\n",
       "      <td>False</td>\n",
       "      <td>False</td>\n",
       "      <td>False</td>\n",
       "      <td>False</td>\n",
       "      <td>False</td>\n",
       "      <td>False</td>\n",
       "      <td>False</td>\n",
       "    </tr>\n",
       "    <tr>\n",
       "      <th>12.50</th>\n",
       "      <td>False</td>\n",
       "      <td>False</td>\n",
       "      <td>False</td>\n",
       "      <td>False</td>\n",
       "      <td>False</td>\n",
       "      <td>False</td>\n",
       "      <td>False</td>\n",
       "      <td>False</td>\n",
       "      <td>False</td>\n",
       "      <td>False</td>\n",
       "      <td>...</td>\n",
       "      <td>False</td>\n",
       "      <td>False</td>\n",
       "      <td>False</td>\n",
       "      <td>False</td>\n",
       "      <td>False</td>\n",
       "      <td>False</td>\n",
       "      <td>False</td>\n",
       "      <td>False</td>\n",
       "      <td>False</td>\n",
       "      <td>False</td>\n",
       "    </tr>\n",
       "    <tr>\n",
       "      <th>15.00</th>\n",
       "      <td>False</td>\n",
       "      <td>False</td>\n",
       "      <td>False</td>\n",
       "      <td>False</td>\n",
       "      <td>False</td>\n",
       "      <td>False</td>\n",
       "      <td>False</td>\n",
       "      <td>False</td>\n",
       "      <td>False</td>\n",
       "      <td>False</td>\n",
       "      <td>...</td>\n",
       "      <td>False</td>\n",
       "      <td>False</td>\n",
       "      <td>False</td>\n",
       "      <td>False</td>\n",
       "      <td>False</td>\n",
       "      <td>False</td>\n",
       "      <td>False</td>\n",
       "      <td>False</td>\n",
       "      <td>False</td>\n",
       "      <td>False</td>\n",
       "    </tr>\n",
       "    <tr>\n",
       "      <th>18.75</th>\n",
       "      <td>False</td>\n",
       "      <td>False</td>\n",
       "      <td>3000.0</td>\n",
       "      <td>False</td>\n",
       "      <td>False</td>\n",
       "      <td>False</td>\n",
       "      <td>False</td>\n",
       "      <td>False</td>\n",
       "      <td>False</td>\n",
       "      <td>False</td>\n",
       "      <td>...</td>\n",
       "      <td>False</td>\n",
       "      <td>False</td>\n",
       "      <td>False</td>\n",
       "      <td>False</td>\n",
       "      <td>False</td>\n",
       "      <td>False</td>\n",
       "      <td>False</td>\n",
       "      <td>False</td>\n",
       "      <td>False</td>\n",
       "      <td>False</td>\n",
       "    </tr>\n",
       "    <tr>\n",
       "      <th>20.00</th>\n",
       "      <td>3000.0</td>\n",
       "      <td>False</td>\n",
       "      <td>False</td>\n",
       "      <td>False</td>\n",
       "      <td>False</td>\n",
       "      <td>False</td>\n",
       "      <td>False</td>\n",
       "      <td>False</td>\n",
       "      <td>False</td>\n",
       "      <td>False</td>\n",
       "      <td>...</td>\n",
       "      <td>False</td>\n",
       "      <td>False</td>\n",
       "      <td>False</td>\n",
       "      <td>False</td>\n",
       "      <td>False</td>\n",
       "      <td>False</td>\n",
       "      <td>False</td>\n",
       "      <td>False</td>\n",
       "      <td>False</td>\n",
       "      <td>False</td>\n",
       "    </tr>\n",
       "  </tbody>\n",
       "</table>\n",
       "<p>6 rows × 41 columns</p>\n",
       "</div>"
      ],
      "text/plain": [
       "          150    155     160    165    170    175    180    185    190    195  \\\n",
       "10.00   False  False   False  False  False  False  False  False  False  False   \n",
       "12.00   False  False   False  False  False  False  False  False  False  False   \n",
       "12.50   False  False   False  False  False  False  False  False  False  False   \n",
       "15.00   False  False   False  False  False  False  False  False  False  False   \n",
       "18.75   False  False  3000.0  False  False  False  False  False  False  False   \n",
       "20.00  3000.0  False   False  False  False  False  False  False  False  False   \n",
       "\n",
       "       ...    305    310    315    320    325    330    335    340    345  \\\n",
       "10.00  ...  False  False  False  False  False  False  False  False  False   \n",
       "12.00  ...  False  False  False  False  False  False  False  False  False   \n",
       "12.50  ...  False  False  False  False  False  False  False  False  False   \n",
       "15.00  ...  False  False  False  False  False  False  False  False  False   \n",
       "18.75  ...  False  False  False  False  False  False  False  False  False   \n",
       "20.00  ...  False  False  False  False  False  False  False  False  False   \n",
       "\n",
       "         350  \n",
       "10.00  False  \n",
       "12.00  False  \n",
       "12.50  False  \n",
       "15.00  False  \n",
       "18.75  False  \n",
       "20.00  False  \n",
       "\n",
       "[6 rows x 41 columns]"
      ]
     },
     "execution_count": 46,
     "metadata": {},
     "output_type": "execute_result"
    }
   ],
   "source": [
    "mask#test"
   ]
  },
  {
   "cell_type": "code",
   "execution_count": 47,
   "metadata": {},
   "outputs": [
    {
     "data": {
      "text/plain": [
       "[(10.0, 300), (12.0, 250), (12.5, 240), (15.0, 200), (18.75, 160), (20.0, 150)]"
      ]
     },
     "execution_count": 47,
     "metadata": {},
     "output_type": "execute_result"
    }
   ],
   "source": [
    "mask[mask > 0].stack().index.tolist() # Render key/index list of values == budget. Everything works and I am incredible."
   ]
  },
  {
   "cell_type": "code",
   "execution_count": 48,
   "metadata": {},
   "outputs": [
    {
     "data": {
      "text/plain": [
       "6"
      ]
     },
     "execution_count": 48,
     "metadata": {},
     "output_type": "execute_result"
    }
   ],
   "source": [
    "len(mask) # experiment with len as tool in defs"
   ]
  },
  {
   "cell_type": "code",
   "execution_count": 49,
   "metadata": {},
   "outputs": [
    {
     "data": {
      "text/plain": [
       "MultiIndex([(150,),\n",
       "            (160,),\n",
       "            (200,),\n",
       "            (240,),\n",
       "            (250,),\n",
       "            (300,)],\n",
       "           )"
      ]
     },
     "execution_count": 49,
     "metadata": {},
     "output_type": "execute_result"
    }
   ],
   "source": [
    "mask_id.iloc[0].keys() # keys of mask"
   ]
  },
  {
   "cell_type": "code",
   "execution_count": 50,
   "metadata": {},
   "outputs": [],
   "source": [
    "m = mask[mask > 0].stack().index.tolist() # experiment with subtracting mask[0] from budget. I am not the smartest person alive.\n",
    "df0 = pd.DataFrame([budget]).values.tolist()\n",
    "df1 = pd.DataFrame(m[0]).values.tolist()"
   ]
  },
  {
   "cell_type": "code",
   "execution_count": 51,
   "metadata": {},
   "outputs": [
    {
     "name": "stdout",
     "output_type": "stream",
     "text": [
      "[3000.]\n"
     ]
    }
   ],
   "source": [
    "float_df1_0 = np.float64(df1[0])\n",
    "float_df1_1 = np.float64(df1[1])\n",
    "\n",
    "pe = float_df1_0 * float_df1_1\n",
    "print(pe)\n"
   ]
  },
  {
   "cell_type": "code",
   "execution_count": null,
   "metadata": {},
   "outputs": [],
   "source": [
    "from bisect import bisect_left # Plan from here is to loop this against 'budget' and then subtract the return from budget, then repeat with return.\n",
    "\n",
    "\n",
    "def take_closest(myList, myNumber):\n",
    "    \"\"\"\n",
    "    Assumes myList is sorted. Returns closest value to myNumber.\n",
    "\n",
    "    If two numbers are equally close, return the smallest number.\n",
    "    \"\"\"\n",
    "    pos = bisect_left(myList, myNumber)\n",
    "    if pos == 0:\n",
    "        return myList[0]\n",
    "    if pos == len(myList):\n",
    "        return myList[-1]\n",
    "    before = myList[pos - 1]\n",
    "    after = myList[pos]\n",
    "    if after - myNumber < myNumber - before:\n",
    "        return after\n",
    "    else:\n",
    "        return before\n"
   ]
  },
  {
   "cell_type": "code",
   "execution_count": 104,
   "metadata": {},
   "outputs": [],
   "source": [
    "def is_valid(x):\n",
    "    if len(mask) > 0:\n",
    "        return True\n",
    "    else:\n",
    "        return False\n"
   ]
  },
  {
   "cell_type": "code",
   "execution_count": 105,
   "metadata": {},
   "outputs": [],
   "source": [
    "def breakdown(x):\n",
    "    while True:\n",
    "        if is_valid(x):\n",
    "            i = (yield x)\n",
    "            if i is not None:\n",
    "                x = i\n",
    "        x += 1"
   ]
  },
  {
   "cell_type": "code",
   "execution_count": 107,
   "metadata": {},
   "outputs": [
    {
     "data": {
      "text/plain": [
       "<generator object breakdown at 0x152e95310>"
      ]
     },
     "execution_count": 107,
     "metadata": {},
     "output_type": "execute_result"
    }
   ],
   "source": [
    "breakdown(3000)"
   ]
  }
 ],
 "metadata": {
  "interpreter": {
   "hash": "079f5563d219d058efba31cdcc3d8781a166a82d3806ed6b2673c5495d7a9801"
  },
  "kernelspec": {
   "display_name": "Python 3.10.3 64-bit ('py3103')",
   "language": "python",
   "name": "python3"
  },
  "language_info": {
   "codemirror_mode": {
    "name": "ipython",
    "version": 3
   },
   "file_extension": ".py",
   "mimetype": "text/x-python",
   "name": "python",
   "nbconvert_exporter": "python",
   "pygments_lexer": "ipython3",
   "version": "3.10.3"
  },
  "orig_nbformat": 4
 },
 "nbformat": 4,
 "nbformat_minor": 2
}
